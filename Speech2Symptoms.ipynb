{
 "cells": [
  {
   "cell_type": "code",
   "execution_count": 1,
   "metadata": {
    "_cell_guid": "b1076dfc-b9ad-4769-8c92-a6c4dae69d19",
    "_kg_hide-input": true,
    "_kg_hide-output": false,
    "_uuid": "8f2839f25d086af736a60e9eeb907d3b93b6e0e5"
   },
   "outputs": [],
   "source": [
    "from fastai.text import *\n",
    "from fastai.vision import *\n",
    "import spacy\n",
    "from spacy import displacy\n",
    "import scispacy\n",
    "import librosa\n",
    "import librosa.display\n",
    "import soundfile as sf\n",
    "from nltk.corpus import stopwords\n",
    "from wordcloud import WordCloud, STOPWORDS\n",
    "from collections import Counter\n",
    "import IPython\n",
    "import os\n",
    "from glob import glob\n",
    "from tqdm import tqdm\n",
    "import numpy as np\n",
    "import pandas as pd \n",
    "import seaborn as sns\n",
    "import matplotlib\n",
    "import matplotlib.pyplot as plt\n",
    "import pylab\n",
    "import gc\n",
    "import warnings\n",
    "warnings.filterwarnings('ignore')\n",
    "%matplotlib inline"
   ]
  },
  {
   "cell_type": "code",
   "execution_count": 3,
   "metadata": {
    "_kg_hide-input": true,
    "_uuid": "90ef211283f429d80a37ea45db0b1e0127772851"
   },
   "outputs": [],
   "source": [
    "def get_wav_info(wav_file):\n",
    "    data, rate = sf.read(wav_file)\n",
    "    return data, rate\n",
    "\n",
    "def create_spectrogram(wav_file):\n",
    "    data, rate = get_wav_info(wav_file)\n",
    "    nfft = 200 \n",
    "    fs = 8000 \n",
    "    noverlap = 120 \n",
    "    nchannels = data.ndim\n",
    "    if nchannels == 1:\n",
    "        pxx, freqs, bins, im = plt.specgram(data, nfft, fs, noverlap = noverlap)\n",
    "    elif nchannels == 2:\n",
    "        pxx, freqs, bins, im = plt.specgram(data[:,0], nfft, fs, noverlap = noverlap)\n",
    "    return pxx\n",
    "\n",
    "def create_melspectrogram(filename,name):\n",
    "    plt.interactive(False)\n",
    "    clip, sample_rate = librosa.load(filename, sr=None)\n",
    "    fig = plt.figure(figsize=[0.72,0.72])\n",
    "    ax = fig.add_subplot(111)\n",
    "    ax.axes.get_xaxis().set_visible(False)\n",
    "    ax.axes.get_yaxis().set_visible(False)\n",
    "    ax.set_frame_on(False)\n",
    "    S = librosa.feature.melspectrogram(y=clip, sr=sample_rate)\n",
    "    librosa.display.specshow(librosa.power_to_db(S, ref=np.max))\n",
    "    filename  = Path('data/spectrograms/' + name + '.jpg')\n",
    "    plt.savefig(filename, dpi=400, bbox_inches='tight',pad_inches=0)\n",
    "    plt.close()    \n",
    "    fig.clf()\n",
    "    plt.close(fig)\n",
    "    plt.close('all')\n",
    "    del filename,name,clip,sample_rate,fig,ax,S\n",
    "\n",
    "def wordBarGraphFunction(df,column,title):\n",
    "    topic_words = [ z.lower() for y in\n",
    "                       [ x.split() for x in df[column] if isinstance(x, str)]\n",
    "                       for z in y]\n",
    "    word_count_dict = dict(Counter(topic_words))\n",
    "    popular_words = sorted(word_count_dict, key = word_count_dict.get, reverse = True)\n",
    "    popular_words_nonstop = [w for w in popular_words if w not in stopwords.words(\"english\")]\n",
    "    plt.barh(range(50), [word_count_dict[w] for w in reversed(popular_words_nonstop[0:50])])\n",
    "    plt.yticks([x + 0.5 for x in range(50)], reversed(popular_words_nonstop[0:50]))\n",
    "    plt.title(title)\n",
    "    plt.show()\n",
    "\n",
    "def wordCloudFunction(df,column,numWords):\n",
    "    topic_words = [ z.lower() for y in\n",
    "                       [ x.split() for x in df[column] if isinstance(x, str)]\n",
    "                       for z in y]\n",
    "    word_count_dict = dict(Counter(topic_words))\n",
    "    popular_words = sorted(word_count_dict, key = word_count_dict.get, reverse = True)\n",
    "    popular_words_nonstop = [w for w in popular_words if w not in stopwords.words(\"english\")]\n",
    "    word_string=str(popular_words_nonstop)\n",
    "    wordcloud = WordCloud(stopwords=STOPWORDS,\n",
    "                          background_color='white',\n",
    "                          max_words=numWords,\n",
    "                          width=1000,height=1000,\n",
    "                         ).generate(word_string)\n",
    "    plt.clf()\n",
    "    plt.imshow(wordcloud)\n",
    "    plt.axis('off')\n",
    "    plt.show()"
   ]
  },
  {
   "cell_type": "code",
   "execution_count": 4,
   "metadata": {
    "_cell_guid": "79c7e3d0-c299-4dcb-8224-4455121ee9b0",
    "_kg_hide-input": true,
    "_uuid": "d629ff2d2480ee46fbb7e2d37f6b5fab8052498a"
   },
   "outputs": [],
   "source": [
    "overview = pd.read_csv('data/overview-of-recordings.csv')\n",
    "overview = overview[['file_name','phrase','prompt','overall_quality_of_the_audio','speaker_id']]\n",
    "overview=overview.dropna()\n",
    "overviewAudio = overview[['file_name','prompt']]\n",
    "overviewAudio['spec_name'] = overviewAudio['file_name'].str.rstrip('.wav')\n",
    "overviewAudio = overviewAudio[['spec_name','prompt']]\n",
    "overviewText = overview[['phrase','prompt']]\n",
    "noNaNcsv = 'data/overview-of-recordings.csv'\n",
    "noNaNcsv = pd.read_csv(noNaNcsv)\n",
    "noNaNcsv = noNaNcsv.dropna()\n",
    "noNaNcsv = noNaNcsv.to_csv('overview-of-recordings.csv',index=False)\n",
    "noNaNcsv"
   ]
  },
  {
   "cell_type": "code",
   "execution_count": null,
   "metadata": {
    "_kg_hide-input": true,
    "_uuid": "bc830faf4b4972acbc45183f63b5abc7e89bf998"
   },
   "outputs": [],
   "source": [
    "overview[110:120]"
   ]
  },
  {
   "cell_type": "code",
   "execution_count": null,
   "metadata": {
    "_kg_hide-input": true,
    "_uuid": "7d3297820b22d0916799af32fa6e704f1acaa736"
   },
   "outputs": [],
   "source": [
    "sns.set_style(\"whitegrid\")\n",
    "promptsPlot = sns.countplot(y='prompt',data=overview)\n",
    "promptsPlot\n",
    "\n",
    "qualityPlot = sns.FacetGrid(overview,aspect=2.5)\n",
    "qualityPlot.map(sns.kdeplot,'overall_quality_of_the_audio',shade= True)\n",
    "qualityPlot.set(xlim=(2.5, overview['overall_quality_of_the_audio'].max()))\n",
    "qualityPlot.set_axis_labels('overall_quality_of_the_audio', 'Proportion')\n",
    "qualityPlot"
   ]
  },
  {
   "cell_type": "code",
   "execution_count": null,
   "metadata": {
    "_kg_hide-input": true,
    "_uuid": "f985884a4638ad4f2db519535f5ca37406238ace"
   },
   "outputs": [],
   "source": [
    "overview[62:63]"
   ]
  },
  {
   "cell_type": "code",
   "execution_count": null,
   "metadata": {
    "_kg_hide-input": true,
    "_uuid": "d80b33d158ee958f04b82ce5c2b4130203883904"
   },
   "outputs": [],
   "source": [
    "en_core_sci_sm = 'data/models/en_core_sci_sm-0.1.0/en_core_sci_sm/en_core_sci_sm-0.1.0'\n",
    "nlp = spacy.load(en_core_sci_sm)\n",
    "text = overview['phrase'][62]\n",
    "doc = nlp(text)\n",
    "print(list(doc.sents))\n",
    "print(doc.ents)\n",
    "displacy.render(next(doc.sents), style='dep', jupyter=True,options = {'compact': True, 'word_spacing': 45, 'distance': 90})"
   ]
  },
  {
   "cell_type": "code",
   "execution_count": null,
   "metadata": {
    "_kg_hide-input": true,
    "_uuid": "76a92eb78edad64d3a4f7002c1b75ee5583cc387"
   },
   "outputs": [],
   "source": [
    "IPython.display.Audio('data/recordings/test/1249120_20518958_23074828.wav')"
   ]
  },
  {
   "cell_type": "code",
   "execution_count": null,
   "metadata": {
    "_kg_hide-input": true,
    "_uuid": "fcc3c7640d4c0ab364e2a8e3644cb70c68c3d48f"
   },
   "outputs": [],
   "source": [
    "overview[118:119]"
   ]
  },
  {
   "cell_type": "code",
   "execution_count": null,
   "metadata": {
    "_kg_hide-input": true,
    "_uuid": "8b7d746b6ff37bebeee99ff3845ba35b64c2bb86"
   },
   "outputs": [],
   "source": [
    "en_core_sci_sm = 'data/models/en_core_sci_sm-0.1.0/en_core_sci_sm/en_core_sci_sm-0.1.0'\n",
    "nlp = spacy.load(en_core_sci_sm)\n",
    "text = overview['phrase'][118]\n",
    "doc = nlp(text)\n",
    "print(list(doc.sents))\n",
    "print(doc.ents)\n",
    "displacy.render(next(doc.sents), style='dep', jupyter=True,options = {'compact': True, 'word_spacing': 45, 'distance': 90})"
   ]
  },
  {
   "cell_type": "code",
   "execution_count": null,
   "metadata": {
    "_kg_hide-input": true,
    "_uuid": "5ae08669d65e4aa895792c62318613df7840a0d1"
   },
   "outputs": [],
   "source": [
    "IPython.display.Audio('data/recordings/test/1249120_43788827_53247832.wav')"
   ]
  },
  {
   "cell_type": "code",
   "execution_count": null,
   "metadata": {
    "_kg_hide-input": true,
    "_uuid": "b037d5660ddd3af691f74feddb3f97d4f8269538",
    "scrolled": true
   },
   "outputs": [],
   "source": [
    "plt.figure(figsize=(15,15))\n",
    "wordCloudFunction(overview,'phrase',10000000)"
   ]
  },
  {
   "cell_type": "code",
   "execution_count": null,
   "metadata": {
    "_kg_hide-input": true,
    "_uuid": "b9593f576f5211a9f41a3e57884956fad1d13d6d"
   },
   "outputs": [],
   "source": [
    "plt.figure(figsize=(10,10))\n",
    "wordBarGraphFunction(overview,'phrase',\"Most Common Words in Medical Text Transcripts\")"
   ]
  },
  {
   "cell_type": "code",
   "execution_count": null,
   "metadata": {
    "_uuid": "154f1eb6aa52f6ec02d934f7d5f3242612204265"
   },
   "outputs": [],
   "source": [
    "np.random.seed(7)\n",
    "path = Path('data/')\n",
    "data_clas = (TextList.from_csv(path, 'overview-of-recordings.csv', \n",
    "                               cols='phrase')\n",
    "                   .random_split_by_pct(.2)\n",
    "                   .label_from_df(cols='prompt')\n",
    "                   .databunch(bs=42))\n",
    "MODEL_PATH = \"S2Smodel/\"\n",
    "learn = text_classifier_learner(data_clas,model_dir=MODEL_PATH,arch=AWD_LSTM)\n",
    "learn.fit_one_cycle(5)"
   ]
  },
  {
   "cell_type": "code",
   "execution_count": null,
   "metadata": {
    "_uuid": "60359f7e02a5ceb236c1f44ee175dab3337e2749"
   },
   "outputs": [],
   "source": [
    "learn.unfreeze()\n",
    "learn.fit_one_cycle(5)"
   ]
  },
  {
   "cell_type": "code",
   "execution_count": null,
   "metadata": {
    "_uuid": "d99271c65e6633f7181cebd102b4d5a17d93197c"
   },
   "outputs": [],
   "source": [
    "interp = ClassificationInterpretation.from_learner(learn)\n",
    "interp.plot_confusion_matrix(figsize=(10,10), dpi=60)"
   ]
  },
  {
   "cell_type": "code",
   "execution_count": null,
   "metadata": {
    "_kg_hide-input": true,
    "_uuid": "faa1da3670f01d5590540714e3085b7d53ce5afa"
   },
   "outputs": [],
   "source": [
    "testAudio = \"data/recordings/train/1249120_44176037_58635902.wav\"\n",
    "x = create_spectrogram(testAudio)"
   ]
  },
  {
   "cell_type": "code",
   "execution_count": null,
   "metadata": {
    "_kg_hide-input": true,
    "_uuid": "782e4b2fe4d629bb43ab770a5584bda852b07070"
   },
   "outputs": [],
   "source": [
    "filename = \"data/recordings/train/1249120_44176037_58635902.wav\"\n",
    "clip, sample_rate = librosa.load(filename, sr=None)\n",
    "fig = plt.figure(figsize=[5,5])\n",
    "S = librosa.feature.melspectrogram(y=clip, sr=sample_rate)\n",
    "librosa.display.specshow(librosa.power_to_db(S, ref=np.max))"
   ]
  },
  {
   "cell_type": "code",
   "execution_count": null,
   "metadata": {
    "_kg_hide-input": true,
    "_uuid": "bb39040f2c7ea3d08eb044acd48571f705a9490a"
   },
   "outputs": [],
   "source": [
    "Data_dir_train=np.array(glob(\"data/recordings/train/*\"))\n",
    "Data_dir_test=np.array(glob(\"data/recordings/test/*\"))\n",
    "Data_dir_val=np.array(glob(\"data/recordings/validate/*\"))\n",
    "\n",
    "for file in tqdm(Data_dir_train):\n",
    "    filename,name = file,file.split('/')[-1].split('.')[0]\n",
    "    create_melspectrogram(filename,name)\n",
    "for file in tqdm(Data_dir_test):\n",
    "    filename,name = file,file.split('/')[-1].split('.')[0]\n",
    "    create_melspectrogram(filename,name)\n",
    "for file in tqdm(Data_dir_val):\n",
    "    filename,name = file,file.split('/')[-1].split('.')[0]\n",
    "    create_melspectrogram(filename,name)"
   ]
  },
  {
   "cell_type": "code",
   "execution_count": 5,
   "metadata": {
    "_uuid": "15d97644e5e50dbadfe25d1fe83e5176388d9c35",
    "scrolled": true
   },
   "outputs": [
    {
     "data": {
      "text/html": [
       "Total time: 04:04 <p><table border=\"1\" class=\"dataframe\">\n",
       "  <thead>\n",
       "    <tr style=\"text-align: left;\">\n",
       "      <th>epoch</th>\n",
       "      <th>train_loss</th>\n",
       "      <th>valid_loss</th>\n",
       "      <th>accuracy</th>\n",
       "      <th>time</th>\n",
       "    </tr>\n",
       "  </thead>\n",
       "  <tbody>\n",
       "    <tr>\n",
       "      <td>0</td>\n",
       "      <td>3.725782</td>\n",
       "      <td>3.344977</td>\n",
       "      <td>0.051051</td>\n",
       "      <td>00:25</td>\n",
       "    </tr>\n",
       "    <tr>\n",
       "      <td>1</td>\n",
       "      <td>3.561898</td>\n",
       "      <td>3.324239</td>\n",
       "      <td>0.063814</td>\n",
       "      <td>00:24</td>\n",
       "    </tr>\n",
       "    <tr>\n",
       "      <td>2</td>\n",
       "      <td>3.417711</td>\n",
       "      <td>3.264070</td>\n",
       "      <td>0.064565</td>\n",
       "      <td>00:24</td>\n",
       "    </tr>\n",
       "    <tr>\n",
       "      <td>3</td>\n",
       "      <td>3.283222</td>\n",
       "      <td>3.230846</td>\n",
       "      <td>0.076577</td>\n",
       "      <td>00:24</td>\n",
       "    </tr>\n",
       "    <tr>\n",
       "      <td>4</td>\n",
       "      <td>3.213373</td>\n",
       "      <td>3.228698</td>\n",
       "      <td>0.069820</td>\n",
       "      <td>00:24</td>\n",
       "    </tr>\n",
       "    <tr>\n",
       "      <td>5</td>\n",
       "      <td>3.149621</td>\n",
       "      <td>3.222141</td>\n",
       "      <td>0.066066</td>\n",
       "      <td>00:24</td>\n",
       "    </tr>\n",
       "    <tr>\n",
       "      <td>6</td>\n",
       "      <td>3.108348</td>\n",
       "      <td>3.205547</td>\n",
       "      <td>0.073574</td>\n",
       "      <td>00:23</td>\n",
       "    </tr>\n",
       "    <tr>\n",
       "      <td>7</td>\n",
       "      <td>3.077593</td>\n",
       "      <td>3.197894</td>\n",
       "      <td>0.075826</td>\n",
       "      <td>00:24</td>\n",
       "    </tr>\n",
       "    <tr>\n",
       "      <td>8</td>\n",
       "      <td>3.025213</td>\n",
       "      <td>3.195509</td>\n",
       "      <td>0.078078</td>\n",
       "      <td>00:24</td>\n",
       "    </tr>\n",
       "    <tr>\n",
       "      <td>9</td>\n",
       "      <td>2.996002</td>\n",
       "      <td>3.196668</td>\n",
       "      <td>0.078829</td>\n",
       "      <td>00:24</td>\n",
       "    </tr>\n",
       "  </tbody>\n",
       "</table>"
      ],
      "text/plain": [
       "<IPython.core.display.HTML object>"
      ]
     },
     "metadata": {},
     "output_type": "display_data"
    }
   ],
   "source": [
    "path = Path('data')\n",
    "np.random.seed(7)\n",
    "data = ImageDataBunch.from_df(path,df=overviewAudio, folder=\"spectrograms\", valid_pct=0.2, suffix='.jpg',\n",
    "        ds_tfms=get_transforms(), size=299, num_workers=15).normalize(imagenet_stats)\n",
    "learn = create_cnn(data, models.resnet34, metrics=accuracy)\n",
    "learn.fit_one_cycle(10)"
   ]
  },
  {
   "cell_type": "code",
   "execution_count": 6,
   "metadata": {
    "_uuid": "5aa034a7ad40224b706dce25193a5e93bec69bba"
   },
   "outputs": [
    {
     "data": {
      "text/html": [],
      "text/plain": [
       "<IPython.core.display.HTML object>"
      ]
     },
     "metadata": {},
     "output_type": "display_data"
    },
    {
     "name": "stdout",
     "output_type": "stream",
     "text": [
      "LR Finder is complete, type {learner_name}.recorder.plot() to see the graph.\n"
     ]
    },
    {
     "data": {
      "image/png": "[encoded data removed]",
      "text/plain": [
       "<Figure size 432x288 with 1 Axes>"
      ]
     },
     "metadata": {},
     "output_type": "display_data"
    }
   ],
   "source": [
    "learn.unfreeze()\n",
    "learn.lr_find()\n",
    "learn.recorder.plot()"
   ]
  },
  {
   "cell_type": "code",
   "execution_count": 7,
   "metadata": {
    "_uuid": "0c11a008d5fd0b762fefbe7e340789a44b6f2886"
   },
   "outputs": [
    {
     "data": {
      "text/html": [
       "Total time: 25:48 <p><table border=\"1\" class=\"dataframe\">\n",
       "  <thead>\n",
       "    <tr style=\"text-align: left;\">\n",
       "      <th>epoch</th>\n",
       "      <th>train_loss</th>\n",
       "      <th>valid_loss</th>\n",
       "      <th>accuracy</th>\n",
       "      <th>time</th>\n",
       "    </tr>\n",
       "  </thead>\n",
       "  <tbody>\n",
       "    <tr>\n",
       "      <td>0</td>\n",
       "      <td>3.008220</td>\n",
       "      <td>3.192500</td>\n",
       "      <td>0.078829</td>\n",
       "      <td>00:30</td>\n",
       "    </tr>\n",
       "    <tr>\n",
       "      <td>1</td>\n",
       "      <td>2.966238</td>\n",
       "      <td>3.180777</td>\n",
       "      <td>0.081832</td>\n",
       "      <td>00:30</td>\n",
       "    </tr>\n",
       "    <tr>\n",
       "      <td>2</td>\n",
       "      <td>2.933129</td>\n",
       "      <td>3.165760</td>\n",
       "      <td>0.093844</td>\n",
       "      <td>00:31</td>\n",
       "    </tr>\n",
       "    <tr>\n",
       "      <td>3</td>\n",
       "      <td>2.900101</td>\n",
       "      <td>3.186647</td>\n",
       "      <td>0.090090</td>\n",
       "      <td>00:31</td>\n",
       "    </tr>\n",
       "    <tr>\n",
       "      <td>4</td>\n",
       "      <td>2.872479</td>\n",
       "      <td>3.188775</td>\n",
       "      <td>0.092342</td>\n",
       "      <td>00:30</td>\n",
       "    </tr>\n",
       "    <tr>\n",
       "      <td>5</td>\n",
       "      <td>2.818689</td>\n",
       "      <td>3.190061</td>\n",
       "      <td>0.102853</td>\n",
       "      <td>00:31</td>\n",
       "    </tr>\n",
       "    <tr>\n",
       "      <td>6</td>\n",
       "      <td>2.771041</td>\n",
       "      <td>3.211675</td>\n",
       "      <td>0.105105</td>\n",
       "      <td>00:31</td>\n",
       "    </tr>\n",
       "    <tr>\n",
       "      <td>7</td>\n",
       "      <td>2.723774</td>\n",
       "      <td>3.239240</td>\n",
       "      <td>0.109610</td>\n",
       "      <td>00:30</td>\n",
       "    </tr>\n",
       "    <tr>\n",
       "      <td>8</td>\n",
       "      <td>2.685316</td>\n",
       "      <td>3.207637</td>\n",
       "      <td>0.109610</td>\n",
       "      <td>00:30</td>\n",
       "    </tr>\n",
       "    <tr>\n",
       "      <td>9</td>\n",
       "      <td>2.630822</td>\n",
       "      <td>3.211132</td>\n",
       "      <td>0.115616</td>\n",
       "      <td>00:31</td>\n",
       "    </tr>\n",
       "    <tr>\n",
       "      <td>10</td>\n",
       "      <td>2.577174</td>\n",
       "      <td>3.351601</td>\n",
       "      <td>0.120120</td>\n",
       "      <td>00:31</td>\n",
       "    </tr>\n",
       "    <tr>\n",
       "      <td>11</td>\n",
       "      <td>2.473112</td>\n",
       "      <td>3.223635</td>\n",
       "      <td>0.136637</td>\n",
       "      <td>00:30</td>\n",
       "    </tr>\n",
       "    <tr>\n",
       "      <td>12</td>\n",
       "      <td>2.400240</td>\n",
       "      <td>3.281008</td>\n",
       "      <td>0.135135</td>\n",
       "      <td>00:30</td>\n",
       "    </tr>\n",
       "    <tr>\n",
       "      <td>13</td>\n",
       "      <td>2.273644</td>\n",
       "      <td>3.371978</td>\n",
       "      <td>0.140390</td>\n",
       "      <td>00:30</td>\n",
       "    </tr>\n",
       "    <tr>\n",
       "      <td>14</td>\n",
       "      <td>2.128972</td>\n",
       "      <td>3.281610</td>\n",
       "      <td>0.163664</td>\n",
       "      <td>00:30</td>\n",
       "    </tr>\n",
       "    <tr>\n",
       "      <td>15</td>\n",
       "      <td>1.983207</td>\n",
       "      <td>3.320111</td>\n",
       "      <td>0.169670</td>\n",
       "      <td>00:30</td>\n",
       "    </tr>\n",
       "    <tr>\n",
       "      <td>16</td>\n",
       "      <td>1.829270</td>\n",
       "      <td>3.408227</td>\n",
       "      <td>0.171922</td>\n",
       "      <td>00:30</td>\n",
       "    </tr>\n",
       "    <tr>\n",
       "      <td>17</td>\n",
       "      <td>1.637381</td>\n",
       "      <td>3.442433</td>\n",
       "      <td>0.164414</td>\n",
       "      <td>00:30</td>\n",
       "    </tr>\n",
       "    <tr>\n",
       "      <td>18</td>\n",
       "      <td>1.432623</td>\n",
       "      <td>3.329023</td>\n",
       "      <td>0.213964</td>\n",
       "      <td>00:31</td>\n",
       "    </tr>\n",
       "    <tr>\n",
       "      <td>19</td>\n",
       "      <td>1.299259</td>\n",
       "      <td>3.572480</td>\n",
       "      <td>0.200450</td>\n",
       "      <td>00:30</td>\n",
       "    </tr>\n",
       "    <tr>\n",
       "      <td>20</td>\n",
       "      <td>1.112747</td>\n",
       "      <td>3.907505</td>\n",
       "      <td>0.201201</td>\n",
       "      <td>00:30</td>\n",
       "    </tr>\n",
       "    <tr>\n",
       "      <td>21</td>\n",
       "      <td>0.994116</td>\n",
       "      <td>3.601522</td>\n",
       "      <td>0.239489</td>\n",
       "      <td>00:30</td>\n",
       "    </tr>\n",
       "    <tr>\n",
       "      <td>22</td>\n",
       "      <td>0.834584</td>\n",
       "      <td>3.858566</td>\n",
       "      <td>0.234234</td>\n",
       "      <td>00:31</td>\n",
       "    </tr>\n",
       "    <tr>\n",
       "      <td>23</td>\n",
       "      <td>0.737077</td>\n",
       "      <td>4.240211</td>\n",
       "      <td>0.203453</td>\n",
       "      <td>00:31</td>\n",
       "    </tr>\n",
       "    <tr>\n",
       "      <td>24</td>\n",
       "      <td>0.637302</td>\n",
       "      <td>3.698633</td>\n",
       "      <td>0.246246</td>\n",
       "      <td>00:30</td>\n",
       "    </tr>\n",
       "    <tr>\n",
       "      <td>25</td>\n",
       "      <td>0.536376</td>\n",
       "      <td>4.178640</td>\n",
       "      <td>0.237988</td>\n",
       "      <td>00:31</td>\n",
       "    </tr>\n",
       "    <tr>\n",
       "      <td>26</td>\n",
       "      <td>0.490098</td>\n",
       "      <td>3.987581</td>\n",
       "      <td>0.251502</td>\n",
       "      <td>00:30</td>\n",
       "    </tr>\n",
       "    <tr>\n",
       "      <td>27</td>\n",
       "      <td>0.425555</td>\n",
       "      <td>3.850340</td>\n",
       "      <td>0.276276</td>\n",
       "      <td>00:31</td>\n",
       "    </tr>\n",
       "    <tr>\n",
       "      <td>28</td>\n",
       "      <td>0.355920</td>\n",
       "      <td>4.092525</td>\n",
       "      <td>0.249249</td>\n",
       "      <td>00:31</td>\n",
       "    </tr>\n",
       "    <tr>\n",
       "      <td>29</td>\n",
       "      <td>0.282277</td>\n",
       "      <td>4.137545</td>\n",
       "      <td>0.255255</td>\n",
       "      <td>00:30</td>\n",
       "    </tr>\n",
       "    <tr>\n",
       "      <td>30</td>\n",
       "      <td>0.246756</td>\n",
       "      <td>4.202959</td>\n",
       "      <td>0.265766</td>\n",
       "      <td>00:30</td>\n",
       "    </tr>\n",
       "    <tr>\n",
       "      <td>31</td>\n",
       "      <td>0.211435</td>\n",
       "      <td>4.183964</td>\n",
       "      <td>0.271772</td>\n",
       "      <td>00:31</td>\n",
       "    </tr>\n",
       "    <tr>\n",
       "      <td>32</td>\n",
       "      <td>0.201980</td>\n",
       "      <td>4.138521</td>\n",
       "      <td>0.265015</td>\n",
       "      <td>00:30</td>\n",
       "    </tr>\n",
       "    <tr>\n",
       "      <td>33</td>\n",
       "      <td>0.156455</td>\n",
       "      <td>4.123415</td>\n",
       "      <td>0.280030</td>\n",
       "      <td>00:31</td>\n",
       "    </tr>\n",
       "    <tr>\n",
       "      <td>34</td>\n",
       "      <td>0.124304</td>\n",
       "      <td>4.143559</td>\n",
       "      <td>0.277778</td>\n",
       "      <td>00:31</td>\n",
       "    </tr>\n",
       "    <tr>\n",
       "      <td>35</td>\n",
       "      <td>0.096594</td>\n",
       "      <td>4.077881</td>\n",
       "      <td>0.293544</td>\n",
       "      <td>00:31</td>\n",
       "    </tr>\n",
       "    <tr>\n",
       "      <td>36</td>\n",
       "      <td>0.081529</td>\n",
       "      <td>4.217388</td>\n",
       "      <td>0.268018</td>\n",
       "      <td>00:31</td>\n",
       "    </tr>\n",
       "    <tr>\n",
       "      <td>37</td>\n",
       "      <td>0.072079</td>\n",
       "      <td>4.322004</td>\n",
       "      <td>0.284535</td>\n",
       "      <td>00:31</td>\n",
       "    </tr>\n",
       "    <tr>\n",
       "      <td>38</td>\n",
       "      <td>0.057752</td>\n",
       "      <td>4.187156</td>\n",
       "      <td>0.290541</td>\n",
       "      <td>00:31</td>\n",
       "    </tr>\n",
       "    <tr>\n",
       "      <td>39</td>\n",
       "      <td>0.041352</td>\n",
       "      <td>4.193650</td>\n",
       "      <td>0.299550</td>\n",
       "      <td>00:30</td>\n",
       "    </tr>\n",
       "    <tr>\n",
       "      <td>40</td>\n",
       "      <td>0.035534</td>\n",
       "      <td>4.063576</td>\n",
       "      <td>0.292793</td>\n",
       "      <td>00:31</td>\n",
       "    </tr>\n",
       "    <tr>\n",
       "      <td>41</td>\n",
       "      <td>0.030463</td>\n",
       "      <td>4.139673</td>\n",
       "      <td>0.291291</td>\n",
       "      <td>00:30</td>\n",
       "    </tr>\n",
       "    <tr>\n",
       "      <td>42</td>\n",
       "      <td>0.022026</td>\n",
       "      <td>4.153645</td>\n",
       "      <td>0.296547</td>\n",
       "      <td>00:30</td>\n",
       "    </tr>\n",
       "    <tr>\n",
       "      <td>43</td>\n",
       "      <td>0.020244</td>\n",
       "      <td>4.123451</td>\n",
       "      <td>0.302553</td>\n",
       "      <td>00:31</td>\n",
       "    </tr>\n",
       "    <tr>\n",
       "      <td>44</td>\n",
       "      <td>0.015653</td>\n",
       "      <td>4.149323</td>\n",
       "      <td>0.307057</td>\n",
       "      <td>00:31</td>\n",
       "    </tr>\n",
       "    <tr>\n",
       "      <td>45</td>\n",
       "      <td>0.013743</td>\n",
       "      <td>4.102363</td>\n",
       "      <td>0.312312</td>\n",
       "      <td>00:30</td>\n",
       "    </tr>\n",
       "    <tr>\n",
       "      <td>46</td>\n",
       "      <td>0.012460</td>\n",
       "      <td>4.084857</td>\n",
       "      <td>0.298048</td>\n",
       "      <td>00:31</td>\n",
       "    </tr>\n",
       "    <tr>\n",
       "      <td>47</td>\n",
       "      <td>0.011696</td>\n",
       "      <td>4.122466</td>\n",
       "      <td>0.301802</td>\n",
       "      <td>00:30</td>\n",
       "    </tr>\n",
       "    <tr>\n",
       "      <td>48</td>\n",
       "      <td>0.010780</td>\n",
       "      <td>4.105486</td>\n",
       "      <td>0.310811</td>\n",
       "      <td>00:31</td>\n",
       "    </tr>\n",
       "    <tr>\n",
       "      <td>49</td>\n",
       "      <td>0.011646</td>\n",
       "      <td>4.111260</td>\n",
       "      <td>0.300300</td>\n",
       "      <td>00:31</td>\n",
       "    </tr>\n",
       "  </tbody>\n",
       "</table>"
      ],
      "text/plain": [
       "<IPython.core.display.HTML object>"
      ]
     },
     "metadata": {},
     "output_type": "display_data"
    }
   ],
   "source": [
    "learn.fit_one_cycle(50)"
   ]
  },
  {
   "cell_type": "code",
   "execution_count": 8,
   "metadata": {
    "_uuid": "d5592d40b7cf53cced14a182918c0d70f108abac"
   },
   "outputs": [
    {
     "data": {
      "image/png": "[encoded data removed]",
      "text/plain": [
       "<Figure size 600x600 with 1 Axes>"
      ]
     },
     "metadata": {},
     "output_type": "display_data"
    }
   ],
   "source": [
    "interp = ClassificationInterpretation.from_learner(learn)\n",
    "interp.plot_confusion_matrix(figsize=(10,10), dpi=60)"
   ]
  }
 ],
 "metadata": {
  "kernelspec": {
   "display_name": "Python 3",
   "language": "python",
   "name": "python3"
  },
  "language_info": {
   "codemirror_mode": {
    "name": "ipython",
    "version": 3
   },
   "file_extension": ".py",
   "mimetype": "text/x-python",
   "name": "python",
   "nbconvert_exporter": "python",
   "pygments_lexer": "ipython3",
   "version": "3.6.6"
  }
 },
 "nbformat": 4,
 "nbformat_minor": 1
}
